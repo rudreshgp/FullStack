{
 "metadata": {
  "kernelspec": {
   "display_name": "Python 2",
   "language": "python",
   "name": "python2"
  },
  "language_info": {
   "codemirror_mode": {
    "name": "ipython",
    "version": 2
   },
   "file_extension": ".py",
   "mimetype": "text/x-python",
   "name": "python",
   "nbconvert_exporter": "python",
   "pygments_lexer": "ipython2",
   "version": "2.7.6"
  },
  "name": "",
  "signature": "sha256:3f5639fb93b2b34dbe8b60777b9e5ac15b2446fde181bbda962c8268ae58bc5e"
 },
 "nbformat": 3,
 "nbformat_minor": 0,
 "worksheets": [
  {
   "cells": [
    {
     "cell_type": "markdown",
     "metadata": {},
     "source": [
      "# Weighted K-Means\n",
      "\n",
      "In this exercise we will simulate finding good locations for production plants of a company in order to minimize its logistical costs. In particular, we would like to place production plants near customers so as to reduce shipping costs and delivery time.\n",
      "\n",
      "We assume that the probability of someone being a customer is independent of its geographical location and that the overall cost of delivering products to customers is proportional to the squared Euclidean distance to the closest production plant. Under these assumptions, the K-Means algorithm is an appropriate method to find a good set of locations. Indeed, K-Means finds a spatial clustering of potential customers and the centroid of each cluster can be chosen to be the location of the plant.\n",
      "\n",
      "Because there are potentially millions of customers, and that it is not scalable to model each customer as a data point in the K-Means procedure, we consider instead as many points as there are geographical locations, and assign to each geographical location a weight $w_i$ corresponding to the number of inhabitants at that location. The resulting problem becomes a weighted version of K-Means where we seek to minimize the objective:\n",
      "\n",
      "$$\n",
      "J(c_1,\\dots,c_K) = \\frac{\\sum_{i} w_i \\min_k ||x_i-c_k||^2}{\\sum_{i} w_i},\n",
      "$$\n",
      "\n",
      "where $c_k$ is the $k$th centroid, and $w_i$ is the weight of each geographical coordinate $x_i$. In order to minimize this cost function, we iteratively perform the following EM computations:\n",
      "\n",
      "* **Expectation step:** Compute the set of points associated to each centroid:\n",
      "$$\n",
      "\\forall~1 \\leq k \\leq K: \\quad \\mathcal{C}(k) \\leftarrow \\Big\\{ i ~:~ k = \\mathrm{arg}\\min_k \\| x_i - c_k \\|^2 \\Big\\}\n",
      "$$\n",
      "\n",
      "\n",
      "* **Minimization step:** Recompute the centroid as a the (weighted) mean of the associated data points:\n",
      "$$\n",
      "\\forall~1 \\leq k \\leq K: \\quad c_k \\leftarrow \\frac{\\sum_{i \\in \\mathcal{C}(k)} w_i \\cdot x_i}{\\sum_{i \\in \\mathcal{C}(k)} w_i}\n",
      "$$\n",
      "\n",
      "\n",
      "until the objective $J(c_1,\\dots,c_K)$ has converged.\n",
      "\n",
      "\n",
      "## Getting started\n",
      "\n",
      "In this exercise we will use data from http://sedac.ciesin.columbia.edu/, that we store in the files `data.mat` as part of the zip archive. The data contains for each geographical coordinates (latitude and longitude), the number of inhabitants and the corresponding country. Several variables and methods are provided in the file `utils.py`:\n",
      "\n",
      "\n",
      "*  **`utils.population`** A 2D array with the number of inhabitants at each latitude/longitude.\n",
      "\n",
      "\n",
      "*  **`utils.countries`** A 2D array with the country indicator at each latitude/longitude.\n",
      "\n",
      "\n",
      "* **`utils.nx`** The number of latitudes considered.\n",
      "\n",
      "\n",
      "* **`utils.ny`** The number of longitudes considered.\n",
      "\n",
      "\n",
      "*  **`utils.plot(latitudes,longitudes)`** Plot a list of centroids given as geographical coordinates in overlay to the population density map.\n",
      "\n",
      "The code below plots three factories (white squares) with geographical coordinates (60,80),\n",
      "(60,90),(60,100) given as input."
     ]
    },
    {
     "cell_type": "code",
     "collapsed": false,
     "input": [
      "import utils\n",
      "%matplotlib inline\n",
      "utils.plot([60,60,60],[80,90,100])"
     ],
     "language": "python",
     "metadata": {},
     "outputs": []
    },
    {
     "cell_type": "markdown",
     "metadata": {},
     "source": [
      "## Initializing Weighted K-Means (20 P)\n",
      "\n",
      "Because K-means has a non-convex objective, choosing a good initial set of centroids is important. Centroids are drawn from from the following discrete probability distribution:\n",
      "\n",
      "$$\n",
      "P(x,y) = \\frac1Z \\cdot \\text{population}(x,y)\n",
      "$$\n",
      "\n",
      "where $Z$ is a normalization constant. Furthermore, to avoid identical centroids, we add a small Gaussian noise to the location of centroids, with standard deviation $0.01$.\n",
      "\n",
      "**Tasks:**\n",
      "\n",
      "* **Implement the initialization procedure above.**\n",
      "* **Run the initialization procedure for K=200 clusters.**\n",
      "* **Visualize the centroids obtained with your initialization procedure using `utils.plot`.**"
     ]
    },
    {
     "cell_type": "code",
     "collapsed": false,
     "input": [
      "# YOUR CODE HERE\n",
      "%matplotlib inline\n",
      "import solution; solution.e1()\n",
      "# --------------"
     ],
     "language": "python",
     "metadata": {},
     "outputs": []
    },
    {
     "cell_type": "markdown",
     "metadata": {},
     "source": [
      "## Implementing Weighted K-Means (40 P)\n",
      "\n",
      "**Tasks:**\n",
      "\n",
      "\n",
      "* **Implement the weighted K-Means algorithm as described in the introduction.**\n",
      "\n",
      "\n",
      "* **Run the algorithm with K=200 centroids until convergence (stop if the objective does not improve by more than 0.01). Convergence should occur after less than 50 iterations. If it takes longer, something must be wrong.**\n",
      "\n",
      "\n",
      "* **Print the value of the objective function at each iteration.**\n",
      "\n",
      "\n",
      "* **Visualize the centroids at the end of the training procedure using the methods `utils.plot`.**"
     ]
    },
    {
     "cell_type": "code",
     "collapsed": false,
     "input": [
      "# YOUR CODE HERE\n",
      "%matplotlib inline\n",
      "import solution; solution.e2()\n",
      "# --------------"
     ],
     "language": "python",
     "metadata": {},
     "outputs": []
    },
    {
     "cell_type": "markdown",
     "metadata": {},
     "source": [
      "## Focus on German-Speaking Countries (20 P)\n",
      "\n",
      "Market analysis has shown that people in German-speaking countries, more precisely, Germany (country 111), Austria(country 104), and Switzerland (country 109), are 25 times more likely to be customers than in other countries.\n",
      "\n",
      "**Tasks:**\n",
      "\n",
      "* **Describe the necessary changes to the problem setup to take into account this new constraint.**\n",
      "\n",
      "* **Run k-means on the modified problem.**\n",
      "\n",
      "* **Visualize the newly obtained centroids using the methods `utils.plot`.**"
     ]
    },
    {
     "cell_type": "code",
     "collapsed": false,
     "input": [
      "# YOUR CODE HERE\n",
      "%matplotlib inline\n",
      "import solution; solution.e3()\n",
      "# --------------"
     ],
     "language": "python",
     "metadata": {
      "scrolled": false
     },
     "outputs": []
    },
    {
     "cell_type": "markdown",
     "metadata": {},
     "source": [
      "## Shipping Restrictions (20 P)\n",
      "\n",
      "We now suppose that deliveries across national borders are taxed heavily, and should be avoided as much as possible.\n",
      "\n",
      "**Tasks:**\n",
      "\n",
      "* **Describe the necessary changes to the problem setup to take into account this new constraint.**\n",
      "\n",
      "* **Run k-means on the modified problem.**\n",
      "\n",
      "* **Visualize the newly obtained centroids using the methods `utils.plot`.**"
     ]
    },
    {
     "cell_type": "code",
     "collapsed": false,
     "input": [
      "# YOUR CODE HERE\n",
      "%matplotlib inline\n",
      "import solution; solution.e4()\n",
      "# --------------"
     ],
     "language": "python",
     "metadata": {},
     "outputs": []
    }
   ],
   "metadata": {}
  }
 ]
}