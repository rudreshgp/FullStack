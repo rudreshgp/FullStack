{
 "cells": [
  {
   "cell_type": "markdown",
   "metadata": {},
   "source": [
    "# Weighted K-Means\n",
    "\n",
    "In this exercise we will simulate finding good locations for production plants of a company in order to minimize its logistical costs. In particular, we would like to place production plants near customers so as to reduce shipping costs and delivery time.\n",
    "\n",
    "We assume that the probability of someone being a customer is independent of its geographical location and that the overall cost of delivering products to customers is proportional to the squared Euclidean distance to the closest production plant. Under these assumptions, the K-Means algorithm is an appropriate method to find a good set of locations. Indeed, K-Means finds a spatial clustering of potential customers and the centroid of each cluster can be chosen to be the location of the plant.\n",
    "\n",
    "Because there are potentially millions of customers, and that it is not scalable to model each customer as a data point in the K-Means procedure, we consider instead as many points as there are geographical locations, and assign to each geographical location a weight $w_i$ corresponding to the number of inhabitants at that location. The resulting problem becomes a weighted version of K-Means where we seek to minimize the objective:\n",
    "\n",
    "$$\n",
    "J(c_1,\\dots,c_K) = \\frac{\\sum_{i} w_i \\min_k ||x_i-c_k||^2}{\\sum_{i} w_i},\n",
    "$$\n",
    "\n",
    "where $c_k$ is the $k$th centroid, and $w_i$ is the weight of each geographical coordinate $x_i$. In order to minimize this cost function, we iteratively perform the following EM computations:\n",
    "\n",
    "* **Expectation step:** Compute the set of points associated to each centroid:\n",
    "$$\n",
    "\\forall~1 \\leq k \\leq K: \\quad \\mathcal{C}(k) \\leftarrow \\Big\\{ i ~:~ k = \\mathrm{arg}\\min_k \\| x_i - c_k \\|^2 \\Big\\}\n",
    "$$\n",
    "\n",
    "\n",
    "* **Minimization step:** Recompute the centroid as a the (weighted) mean of the associated data points:\n",
    "$$\n",
    "\\forall~1 \\leq k \\leq K: \\quad c_k \\leftarrow \\frac{\\sum_{i \\in \\mathcal{C}(k)} w_i \\cdot x_i}{\\sum_{i \\in \\mathcal{C}(k)} w_i}\n",
    "$$\n",
    "\n",
    "\n",
    "until the objective $J(c_1,\\dots,c_K)$ has converged.\n",
    "\n",
    "\n",
    "## Getting started\n",
    "\n",
    "In this exercise we will use data from http://sedac.ciesin.columbia.edu/, that we store in the files `data.mat` as part of the zip archive. The data contains for each geographical coordinates (latitude and longitude), the number of inhabitants and the corresponding country. Several variables and methods are provided in the file `utils.py`:\n",
    "\n",
    "\n",
    "*  **`utils.population`** A 2D array with the number of inhabitants at each latitude/longitude.\n",
    "\n",
    "\n",
    "*  **`utils.countries`** A 2D array with the country indicator at each latitude/longitude.\n",
    "\n",
    "\n",
    "* **`utils.nx`** The number of latitudes considered.\n",
    "\n",
    "\n",
    "* **`utils.ny`** The number of longitudes considered.\n",
    "\n",
    "\n",
    "*  **`utils.plot(latitudes,longitudes)`** Plot a list of centroids given as geographical coordinates in overlay to the population density map.\n",
    "\n",
    "The code below plots three factories (white squares) with geographical coordinates (60,80),\n",
    "(60,90),(60,100) given as input."
   ]
  },
  {
   "cell_type": "code",
   "execution_count": 33,
   "metadata": {
    "collapsed": false
   },
   "outputs": [
    {
     "ename": "TypeError",
     "evalue": "plot() takes 2 positional arguments but 3 were given",
     "output_type": "error",
     "traceback": [
      "\u001b[0;31m---------------------------------------------------------------------------\u001b[0m",
      "\u001b[0;31mTypeError\u001b[0m                                 Traceback (most recent call last)",
      "\u001b[0;32m<ipython-input-33-d2a61b88ca0a>\u001b[0m in \u001b[0;36m<module>\u001b[0;34m()\u001b[0m\n\u001b[1;32m      1\u001b[0m \u001b[1;32mimport\u001b[0m \u001b[0mutils\u001b[0m\u001b[1;33m\u001b[0m\u001b[0m\n\u001b[1;32m      2\u001b[0m \u001b[0mget_ipython\u001b[0m\u001b[1;33m(\u001b[0m\u001b[1;33m)\u001b[0m\u001b[1;33m.\u001b[0m\u001b[0mmagic\u001b[0m\u001b[1;33m(\u001b[0m\u001b[1;34m'matplotlib inline'\u001b[0m\u001b[1;33m)\u001b[0m\u001b[1;33m\u001b[0m\u001b[0m\n\u001b[0;32m----> 3\u001b[0;31m \u001b[0mutils\u001b[0m\u001b[1;33m.\u001b[0m\u001b[0mplot\u001b[0m\u001b[1;33m(\u001b[0m\u001b[1;33m[\u001b[0m\u001b[1;36m60\u001b[0m\u001b[1;33m,\u001b[0m\u001b[1;36m60\u001b[0m\u001b[1;33m,\u001b[0m\u001b[1;36m60\u001b[0m\u001b[1;33m]\u001b[0m\u001b[1;33m,\u001b[0m\u001b[1;33m[\u001b[0m\u001b[1;36m80\u001b[0m\u001b[1;33m,\u001b[0m\u001b[1;36m90\u001b[0m\u001b[1;33m,\u001b[0m\u001b[1;36m100\u001b[0m\u001b[1;33m]\u001b[0m\u001b[1;33m,\u001b[0m\u001b[1;34m'yellow'\u001b[0m\u001b[1;33m)\u001b[0m\u001b[1;33m\u001b[0m\u001b[0m\n\u001b[0m",
      "\u001b[0;31mTypeError\u001b[0m: plot() takes 2 positional arguments but 3 were given"
     ]
    }
   ],
   "source": [
    "import utils\n",
    "%matplotlib inline\n",
    "utils.plot([60,60,60],[80,90,100])"
   ]
  },
  {
   "cell_type": "markdown",
   "metadata": {},
   "source": [
    "## Initializing Weighted K-Means (20 P)\n",
    "\n",
    "Because K-means has a non-convex objective, choosing a good initial set of centroids is important. Centroids are drawn from from the following discrete probability distribution:\n",
    "\n",
    "$$\n",
    "P(x,y) = \\frac1Z \\cdot \\text{population}(x,y)\n",
    "$$\n",
    "\n",
    "where $Z$ is a normalization constant. Furthermore, to avoid identical centroids, we add a small Gaussian noise to the location of centroids, with standard deviation $0.01$.\n",
    "\n",
    "**Tasks:**\n",
    "\n",
    "* **Implement the initialization procedure above.**\n",
    "* **Run the initialization procedure for K=200 clusters.**\n",
    "* **Visualize the centroids obtained with your initialization procedure using `utils.plot`.**"
   ]
  },
  {
   "cell_type": "code",
   "execution_count": 30,
   "metadata": {
    "collapsed": false
   },
   "outputs": [
    {
     "ename": "TypeError",
     "evalue": "plot() takes 2 positional arguments but 3 were given",
     "output_type": "error",
     "traceback": [
      "\u001b[0;31m---------------------------------------------------------------------------\u001b[0m",
      "\u001b[0;31mTypeError\u001b[0m                                 Traceback (most recent call last)",
      "\u001b[0;32m<ipython-input-30-9e228e9afd50>\u001b[0m in \u001b[0;36m<module>\u001b[0;34m()\u001b[0m\n\u001b[1;32m     13\u001b[0m \u001b[1;31m#print centroids.T\u001b[0m\u001b[1;33m\u001b[0m\u001b[1;33m\u001b[0m\u001b[0m\n\u001b[1;32m     14\u001b[0m \u001b[1;31m#utils.plot([60,60,60],[80,90,100])\u001b[0m\u001b[1;33m\u001b[0m\u001b[1;33m\u001b[0m\u001b[0m\n\u001b[0;32m---> 15\u001b[0;31m \u001b[0mutils\u001b[0m\u001b[1;33m.\u001b[0m\u001b[0mplot\u001b[0m\u001b[1;33m(\u001b[0m\u001b[0mcentroids\u001b[0m\u001b[1;33m.\u001b[0m\u001b[0mT\u001b[0m\u001b[1;33m[\u001b[0m\u001b[1;36m0\u001b[0m\u001b[1;33m]\u001b[0m\u001b[1;33m,\u001b[0m\u001b[0mcentroids\u001b[0m\u001b[1;33m.\u001b[0m\u001b[0mT\u001b[0m\u001b[1;33m[\u001b[0m\u001b[1;36m1\u001b[0m\u001b[1;33m]\u001b[0m\u001b[1;33m,\u001b[0m\u001b[1;34m'yellow'\u001b[0m\u001b[1;33m)\u001b[0m\u001b[1;33m\u001b[0m\u001b[0m\n\u001b[0m\u001b[1;32m     16\u001b[0m \u001b[1;31m# plt.figure(figsize=(14,10))\u001b[0m\u001b[1;33m\u001b[0m\u001b[1;33m\u001b[0m\u001b[0m\n\u001b[1;32m     17\u001b[0m \u001b[1;31m# plt.imshow(utils.population**.25,cmap='Blues')\u001b[0m\u001b[1;33m\u001b[0m\u001b[1;33m\u001b[0m\u001b[0m\n",
      "\u001b[0;31mTypeError\u001b[0m: plot() takes 2 positional arguments but 3 were given"
     ]
    }
   ],
   "source": [
    "import utils,numpy as np,random\n",
    "import matplotlib.pyplot as plt\n",
    "%matplotlib inline\n",
    "def findCentroids(dataSet, k):\n",
    "     centroids = np.zeros((k, 2))\n",
    "     n = np.random.choice(utils.nx* utils.ny, k,p=utils.population.flatten()*(1.0/np.sum(utils.population)))\n",
    "     centroids[:,0] = n/utils.ny + np.random.normal(0, 0.01, k)\n",
    "     centroids[:,1] = n%utils.ny + np.random.normal(0, 0.01, k)\n",
    "     return centroids\n",
    "k = 200\n",
    "centroids = findCentroids(utils.population, k)\n",
    "#print centroids\n",
    "#print centroids.T\n",
    "#utils.plot([60,60,60],[80,90,100])\n",
    "utils.plot(centroids.T[0],centroids.T[1],'yellow')\n",
    "# plt.figure(figsize=(14,10))\n",
    "# plt.imshow(utils.population**.25,cmap='Blues')\n",
    "# for a in set(list(utils.countries.flatten())): plt.contour((utils.countries==a)*1.0,colors='black',levels=[0.5])\n",
    "# plt.plot(centroids.T[0],centroids.T[1],'o',ms=7,markeredgewidth=1,mfc='yellow',mec='black')\n",
    "# plt.axis([0,utils.population.shape[1],utils.population.shape[0],0])"
   ]
  },
  {
   "cell_type": "markdown",
   "metadata": {},
   "source": [
    "## Implementing Weighted K-Means (40 P)\n",
    "\n",
    "**Tasks:**\n",
    "\n",
    "\n",
    "* **Implement the weighted K-Means algorithm as described in the introduction.**\n",
    "\n",
    "\n",
    "* **Run the algorithm with K=200 centroids until convergence (stop if the objective does not improve by more than 0.01). Convergence should occur after less than 50 iterations. If it takes longer, something must be wrong.**\n",
    "\n",
    "\n",
    "* **Print the value of the objective function at each iteration.**\n",
    "\n",
    "\n",
    "* **Visualize the centroids at the end of the training procedure using the methods `utils.plot`.**"
   ]
  },
  {
   "cell_type": "code",
   "execution_count": null,
   "metadata": {
    "collapsed": false
   },
   "outputs": [],
   "source": [
    "# YOUR CODE HERE\n",
    "%matplotlib inline\n",
    "import solution; solution.e2()\n",
    "# --------------"
   ]
  },
  {
   "cell_type": "markdown",
   "metadata": {},
   "source": [
    "## Focus on German-Speaking Countries (20 P)\n",
    "\n",
    "Market analysis has shown that people in German-speaking countries, more precisely, Germany (country 111), Austria(country 104), and Switzerland (country 109), are 25 times more likely to be customers than in other countries.\n",
    "\n",
    "**Tasks:**\n",
    "\n",
    "* **Describe the necessary changes to the problem setup to take into account this new constraint.**\n",
    "\n",
    "* **Run k-means on the modified problem.**\n",
    "\n",
    "* **Visualize the newly obtained centroids using the methods `utils.plot`.**"
   ]
  },
  {
   "cell_type": "code",
   "execution_count": null,
   "metadata": {
    "collapsed": false,
    "scrolled": false
   },
   "outputs": [],
   "source": [
    "# YOUR CODE HERE\n",
    "%matplotlib inline\n",
    "import solution; solution.e3()\n",
    "# --------------"
   ]
  },
  {
   "cell_type": "markdown",
   "metadata": {},
   "source": [
    "## Shipping Restrictions (20 P)\n",
    "\n",
    "We now suppose that deliveries across national borders are taxed heavily, and should be avoided as much as possible.\n",
    "\n",
    "**Tasks:**\n",
    "\n",
    "* **Describe the necessary changes to the problem setup to take into account this new constraint.**\n",
    "\n",
    "* **Run k-means on the modified problem.**\n",
    "\n",
    "* **Visualize the newly obtained centroids using the methods `utils.plot`.**"
   ]
  },
  {
   "cell_type": "code",
   "execution_count": null,
   "metadata": {
    "collapsed": false
   },
   "outputs": [],
   "source": [
    "# YOUR CODE HERE\n",
    "%matplotlib inline\n",
    "import solution; solution.e4()\n",
    "# --------------"
   ]
  }
 ],
 "metadata": {
  "anaconda-cloud": {},
  "kernelspec": {
   "display_name": "Python [default]",
   "language": "python",
   "name": "python3"
  },
  "language_info": {
   "codemirror_mode": {
    "name": "ipython",
    "version": 3
   },
   "file_extension": ".py",
   "mimetype": "text/x-python",
   "name": "python",
   "nbconvert_exporter": "python",
   "pygments_lexer": "ipython3",
   "version": "3.5.2"
  }
 },
 "nbformat": 4,
 "nbformat_minor": 0
}
