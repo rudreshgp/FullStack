{
 "metadata": {
  "kernelspec": {
   "display_name": "Python 2",
   "language": "python",
   "name": "python2"
  },
  "language_info": {
   "codemirror_mode": {
    "name": "ipython",
    "version": 2
   },
   "file_extension": ".py",
   "mimetype": "text/x-python",
   "name": "python",
   "nbconvert_exporter": "python",
   "pygments_lexer": "ipython2",
   "version": "2.7.6"
  },
  "name": "",
  "signature": "sha256:26f5a97ff1759c08d7c44ce46091b533b16f5ebc73b70bb235e7575b3988acde"
 },
 "nbformat": 3,
 "nbformat_minor": 0,
 "worksheets": [
  {
   "cells": [
    {
     "cell_type": "markdown",
     "metadata": {},
     "source": [
      "# Fisher Linear Discriminant\n",
      "\n",
      "In this exercise, you will apply Fisher Linear Discriminant as described in Chapter 3.8.2 of Duda et al. on the UCI Abalone dataset. A description of the dataset is given at the page https://archive.ics.uci.edu/ml/datasets/Abalone. The following two methods are provided for your convenience: \n",
      "\n",
      "\n",
      "* **`utils.Abalone.__init__(self)`** reads the Abalone data and instantiates three data matrices of size (1528, 7), (1307, 7), and (1342, 7) corresponding to the three classes in the dataset: *male (M)*, *female (F)*, and *infant (I)*.\n",
      "\n",
      "\n",
      "* **`utils.Abalone.plot(self,w)`** produces a histogram of the data when projected onto a vector `w`, and where each class is shown in a different color.\n",
      "\n",
      "\n",
      "Sample code that makes use of these two methods is given below. It loads the data, looks at the shape of instantiated matrices, and plots various projections of the data: (1) projection on the first dimension of the data, and (2) projection on a random direction."
     ]
    },
    {
     "cell_type": "code",
     "collapsed": false,
     "input": [
      "import matplotlib\n",
      "%matplotlib inline\n",
      "import utils,numpy as np\n",
      "np.zeros((4,4))\n",
      "\n",
      "# Load the data\n",
      "abalone = utils.Abalone()\n",
      "\n",
      "# Print dataset size for each class\n",
      "print(abalone.M.shape,abalone.F.shape, abalone.I.shape)\n",
      "\n",
      "# Project data on the first dimension\n",
      "w1 = np.array([1,0,0,0,0,0,0])\n",
      "abalone.plot(w1,'projection on the first dimension')\n",
      "# Project data on a random direction\n",
      "w2 = np.random.normal(0,1,[7])\n",
      "w2 /= (w2**2).sum()**.5\n",
      "\n",
      "abalone.plot(w2,'projection on a random direction')"
     ],
     "language": "python",
     "metadata": {},
     "outputs": [
      {
       "output_type": "stream",
       "stream": "stdout",
       "text": [
        "((1528, 7), (1307, 7), (1342, 7))\n"
       ]
      },
      {
       "metadata": {},
       "output_type": "display_data",
       "png": "[encoded data removed]",
       "text": [
        "<matplotlib.figure.Figure at 0x7f400f999d10>"
       ]
      },
      {
       "metadata": {},
       "output_type": "display_data",
       "png": "[encoded data removed]",
       "text": [
        "<matplotlib.figure.Figure at 0x7f4029a28e90>"
       ]
      }
     ],
     "prompt_number": 4
    },
    {
     "cell_type": "markdown",
     "metadata": {},
     "source": [
      "## Implementation (30 P)\n",
      "\n",
      "* **Create a method `w = fisher(X1,X2)` that takes as input the data for two classes and returns the Fisher linear discriminant.**\n",
      "\n",
      "\n",
      "* **Create a method `J(X1,X2,w)` that evaluates the objective defined in Equation 96 of Duda et al. for an arbitrary projection vector `w`.**\n",
      "\n",
      "\n",
      "* **Create a method `z = phi(X)` that returns a quadratic expansion for each data point `x` in the dataset. Such expansion consists of the vector `x` itself, to which we concatenate the vector of all pairwise products between elements of `x`.** In other words, letting $x = (x_1,\\dots,x_d)$ denote the $d$-dimensional data point, the quadratic expansion for this data point is a $d \\cdot (d+3)/2$ dimensional vector given by $\\phi(x) = (x_i)_{1 \\leq i \\leq d} \\cup (x_i x_j)_{1 \\leq i \\leq j \\leq d}$. For example, the quadratic expansion for $d=2$ is $(x_1,x_2,x_1^2,x_2^2,x_1 x_2)$."
     ]
    },
    {
     "cell_type": "code",
     "collapsed": false,
     "input": [
      "##### YOUR CODE HERE\n",
      "import matplotlib \n",
      "import numpy as np\n",
      "from numpy import *\n",
      "%matplotlib inline\n",
      "import matplotlib.pyplot as plt\n",
      "\n",
      "def CalculateS_W(mean_vectors,X):\n",
      "    S_W = np.zeros((7,7))\n",
      "    class_sc_mat = np.zeros((7,7))                  # scatter matrix for every class\n",
      "    for row in X:\n",
      "#         print(row.shape)\n",
      "        row, mv = row.reshape(7,1), mean_vectors.reshape(7,1) # make column vectors\n",
      "        class_sc_mat += (row-mean_vectors).dot((row-mean_vectors).T)\n",
      "        S_W += class_sc_mat \n",
      "\n",
      "        \n",
      "    \n",
      "#     print(class_sc_mat)\n",
      "    return S_W\n",
      "\n",
      "def CalculateS_B(m2,m1):\n",
      "    return (m2-m1).T.dot(m2-m1)\n",
      "#     S_B = np.zeros((4,4))\n",
      "#     for i,mean_vec in enumerate(mean_vectors):  \n",
      "#         n = X[y==i+1,:].shape[0]\n",
      "#         mean_vec = mean_vec.reshape(4,1) # make column vector\n",
      "#         overall_mean = overall_mean.reshape(4,1) # make column vector\n",
      "#         S_B += n * (mean_vec - overall_mean).dot((mean_vec - overall_mean).T)\n",
      "\n",
      "#     S_B = np.zeros(7,7)\n",
      "#     for row in X:\n",
      "#         mean_vectors = mean_vectors.reshape(7,1)\n",
      "#         overall_mean = overall_mean.reshape(7,1)\n",
      "        \n",
      "        \n",
      "        \n",
      "def fisher(x1,x2,m1,m2):\n",
      "    S1 = CalculateS_W(m1,x1)\n",
      "    S2 = CalculateS_W(m2,x2)\n",
      "    S_W = S1+S2\n",
      "#     print(S1)\n",
      "#     print(S_W)\n",
      "    S_WI = np.linalg.inv(S_W)\n",
      "    w = S_WI.dot(m2-m1)\n",
      "#     pint(w)\n",
      "    return(w,S_W)\n",
      "#     print(S_W.shape)\n",
      "\n",
      "\n",
      "m1 = np.mean(abalone.M,axis=0)\n",
      "m2 = np.mean(abalone.F,axis = 0)\n",
      "# print(abalone.M.shape,abalone.F.shape)\n",
      "w,S_W = fisher(abalone.M,abalone.F,m1,m2)\n",
      "S_B = CalculateS_B(m2,m1)\n",
      "\n",
      "j = (w.T.dot(S_B).dot(w))/(w.T.dot(S_W).dot(w))\n",
      "print(w)\n",
      "\n",
      "#####"
     ],
     "language": "python",
     "metadata": {},
     "outputs": []
    },
    {
     "cell_type": "code",
     "collapsed": false,
     "input": [],
     "language": "python",
     "metadata": {},
     "outputs": []
    },
    {
     "cell_type": "code",
     "collapsed": false,
     "input": [
      "import matplotlib\n",
      "%matplotlib inline\n",
      "import numpy as np\n",
      "mean_vectors = []\n",
      "mean_vectors.append(abalone.M.mean(axis=0))\n",
      "mean_vectors.append(abalone.F.mean(axis=0))\n",
      "mean_vectors.append(abalone.I.mean(axis=0))\n",
      "\n",
      "def J(x1,x2,w):\n",
      "    return w\n",
      "\n",
      "# def GetS_WMatrix(mat,mean):\n",
      "#     class_sc_mat = np.zeros((7,7))\n",
      "#     for row in mat:\n",
      "#         row,mean = row.reshape(7,1),mean.reshape(7,1)\n",
      "#         class_sc_mat+=(row-mean).dot((row-mean).T)\n",
      "#     return class_sc_mat\n",
      "\n",
      "def GetS_BMatrix(x1,m1,overall\n",
      "    S_B = np.zeros((7,7))\n",
      "   \n",
      "    n = x1.shape[0]\n",
      "    m1=m1.reshape(7,1)\n",
      "    S_1 = n*(mean - overall_mean).dot((mean - overall_mean).T)\n",
      "    \n",
      "S_W = np.zeros((7,7))\n",
      "S_W +=  GetS_WMatrix(abalone.M,mean_vectors[0])\n",
      "\n",
      "S_W +=   GetS_WMatrix(abalone.F,mean_vectors[1])\n",
      "\n",
      "\n",
      "# w = np.linalg.inv(S_W).dot(mean_vectors[1] - mean_vectors[0])\n",
      "\n",
      "\n",
      "\n",
      "\n",
      "# n = abalone.M.shape[0]\n",
      "# mean = mean_vectors[0].reshape(7,1)\n",
      "# S_M = n*(mean - overall_mean).dot((mean - overall_mean).T)\n",
      "# S_B+=S_M\n",
      "\n",
      "mean = mean_vectors[1].reshape(7,1)\n",
      "n = abalone.F.shape[0]\n",
      "S_F = n*((mean - overall_mean).T).dot(mean - overall_mean)\n",
      "S_B+=S_F\n",
      "mean = mean_vectors[2].reshape(7,1)\n",
      "n = abalone.I.shape[0]\n",
      "# S_B += n *((mean - overall_mean).T).dot(mean - overall_mean)\n",
      "s1\n",
      "j =  (S_B.dot(mean_vectors[0] -  mean_vectors[1])**2)/(S_M+S_F)\n",
      "print(j)"
     ],
     "language": "python",
     "metadata": {},
     "outputs": [
      {
       "ename": "NameError",
       "evalue": "name 'S_M' is not defined",
       "output_type": "pyerr",
       "traceback": [
        "\u001b[0;31m---------------------------------------------------------------------------\u001b[0m\n\u001b[0;31mNameError\u001b[0m                                 Traceback (most recent call last)",
        "\u001b[0;32m<ipython-input-93-e425e144c33b>\u001b[0m in \u001b[0;36m<module>\u001b[0;34m()\u001b[0m\n\u001b[1;32m     47\u001b[0m \u001b[0;31m# S_B += n *((mean - overall_mean).T).dot(mean - overall_mean)\u001b[0m\u001b[0;34m\u001b[0m\u001b[0;34m\u001b[0m\u001b[0m\n\u001b[1;32m     48\u001b[0m \u001b[0ms1\u001b[0m\u001b[0;34m\u001b[0m\u001b[0m\n\u001b[0;32m---> 49\u001b[0;31m \u001b[0mj\u001b[0m \u001b[0;34m=\u001b[0m  \u001b[0;34m(\u001b[0m\u001b[0mS_B\u001b[0m\u001b[0;34m.\u001b[0m\u001b[0mdot\u001b[0m\u001b[0;34m(\u001b[0m\u001b[0mmean_vectors\u001b[0m\u001b[0;34m[\u001b[0m\u001b[0;36m0\u001b[0m\u001b[0;34m]\u001b[0m \u001b[0;34m-\u001b[0m  \u001b[0mmean_vectors\u001b[0m\u001b[0;34m[\u001b[0m\u001b[0;36m1\u001b[0m\u001b[0;34m]\u001b[0m\u001b[0;34m)\u001b[0m\u001b[0;34m**\u001b[0m\u001b[0;36m2\u001b[0m\u001b[0;34m)\u001b[0m\u001b[0;34m/\u001b[0m\u001b[0;34m(\u001b[0m\u001b[0mS_M\u001b[0m\u001b[0;34m+\u001b[0m\u001b[0mS_F\u001b[0m\u001b[0;34m)\u001b[0m\u001b[0;34m\u001b[0m\u001b[0m\n\u001b[0m\u001b[1;32m     50\u001b[0m \u001b[0;32mprint\u001b[0m\u001b[0;34m(\u001b[0m\u001b[0mj\u001b[0m\u001b[0;34m)\u001b[0m\u001b[0;34m\u001b[0m\u001b[0m\n",
        "\u001b[0;31mNameError\u001b[0m: name 'S_M' is not defined"
       ]
      }
     ],
     "prompt_number": 93
    },
    {
     "cell_type": "markdown",
     "metadata": {},
     "source": [
      "## Analysis (20 P)\n",
      "\n",
      "* **Print the value of `J(w)` for each discriminated pair of classes (M/F, M/I, F/I), and for several values of `w`:**\n",
      "\n",
      "  * `w` is a vector that projects the data on the each dimension of the data.\n",
      "  * `w` is the difference between the mean vectors of the two classes.\n",
      "  * `w` is the difference between the mean vectors of the two classes (after quadratic expansion of the data).\n",
      "  * `w` is the Fisher linear discriminant.\n",
      "  * `w` is the Fisher linear discriminant (after quadratic expansion of the data).\n",
      "\n",
      "\n",
      "* **For the simple Fisher linear discriminant, plot a histogram of the projected data for each discriminated pair of classes using the function `utils.Abalone.plot()`.**"
     ]
    },
    {
     "cell_type": "code",
     "collapsed": false,
     "input": [
      "##### REPLACE BY YOUR CODE\n",
      "%matplotlib inline\n",
      "import solutions\n",
      "solutions.analysis()\n",
      "#####"
     ],
     "language": "python",
     "metadata": {},
     "outputs": []
    }
   ],
   "metadata": {}
  }
 ]
}