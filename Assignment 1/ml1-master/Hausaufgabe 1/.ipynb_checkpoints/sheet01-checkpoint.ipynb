{
 "cells": [
  {
   "cell_type": "markdown",
   "metadata": {},
   "source": [
    "<h1>Machine Learning I: WS 14/15                        ---- homework by Tom Nick and Niklas Gebauer</h1>\n",
    "\n",
    "<h3>Introduction to Ipython Notebooks</h3>\n",
    "\n",
    "Please consult https://github.com/ipython/ipython/tree/master/examples/notebooks#a-collection-of-notebooks-for-using-ipython-effectively for use of ipython notebooks.\n",
    "\n",
    "http://nbviewer.ipython.org/urls/raw.github.com/jrjohansson/scientific-python-lectures/master/Lecture-4-Matplotlib.ipynb provides great examples of plotting within ipynb\n",
    "\n",
    "Make sure you execute (shift + enter) all necessary code blocks before using them\n",
    "\n",
    "Please add titles to your plots and set the corresponding label to every axis. An example you can use:"
   ]
  },
  {
   "cell_type": "code",
   "execution_count": 1,
   "metadata": {
    "collapsed": false
   },
   "outputs": [
    {
     "name": "stdout",
     "output_type": "stream",
     "text": [
      "Populating the interactive namespace from numpy and matplotlib\n"
     ]
    },
    {
     "data": {
      "image/png": "[encoded data removed]",
      "text/plain": [
       "<matplotlib.figure.Figure at 0x72d77b8>"
      ]
     },
     "metadata": {},
     "output_type": "display_data"
    }
   ],
   "source": [
    "# run this first if you want to plot the example yourself\n",
    "import numpy as np\n",
    "import matplotlib.pyplot as plt\n",
    "%pylab inline\n",
    "\n",
    "# adjust it if you want to see the effects\n",
    "x = np.linspace(0,2)\n",
    "\n",
    "fig, axes = plt.subplots(nrows=1, ncols=2)\n",
    "for ax in axes:\n",
    "    ax.plot(x, x**2, label=r\"$f(x) = x^2$\")\n",
    "    ax.plot(x, x**0.5, label=r\"$f(x) = \\sqrt{x}$\")\n",
    "    ax.set_xlabel(r'$x$', fontsize=18)\n",
    "    ax.set_ylabel(r'$y$', fontsize=18)\n",
    "    ax.set_title('title') # ALWAYS set a title\n",
    "    ax.legend(loc=2) # Add a legend if necessary\n",
    "fig.tight_layout() # Make sure the figures don't overlap\n",
    "\n",
    "# Ignore the warning, as using axes in this fashion will make plotting significantly easier\n",
    "\n",
    "#In part 2 also consider creating a figure with a specific number of subplots. We looked at i%4.\n",
    "\n",
    "#Ignore the warning"
   ]
  },
  {
   "cell_type": "markdown",
   "metadata": {},
   "source": [
    "<h3>Exercise Sheet 1: Bayesian Decision Theory </h3>\n",
    "\n",
    "In this programming assignment we will use Bayes' rule to build a simple junk-mail filter using data avaialbe at http://www.aueb.gr/users/ion/data/enron-spam/.\n",
    "\n",
    "The classifier distinguishes between two classes:\n",
    "\n",
    "* **x = 1 for spam messages **\n",
    "* **x = 0 for ham ( non-spam ) messages **\n",
    "\n",
    "The messages are analyzed by checking for containment of certain words shown to be highly associated with a specific type of message.\n",
    "\n",
    "* Bank, transfer, buy, viagra... for spam messages\n",
    "* Paper, conference, proposal, experiment... for ham messages, as the data was mostly gathered from emails of researchers\n",
    "\n",
    "The classifier determines the probability for each class **assuming independence between occurences of known keywords**:\n",
    "\n",
    "$P(x=i|message) = \\prod_{word \\in message} p(x=i|word)$\n",
    "\n",
    "and using Bayes' rule:\n",
    "\n",
    "$p(x=i|word) = \\frac{p(word|x=i)p(x=i)}{p(word|x=1)p(x=1) + p(word|x=0)p(x=0)}$\n",
    "\n",
    "The message is classified as spam afterwards based on a threshold **T**:\n",
    "\n",
    "$p(x=1|message) > T * p(x=0|message)$\n",
    "\n",
    "As we are only interested in the ratio and not the values of the probabilities themselves, we can also drop the denominator to get\n",
    "\n",
    "$p'(x=i|word) = p(word|x=i)p(x=i)$.\n",
    "\n",
    "<h3>Part I: Calculating the ratio (10P) </h3>\n",
    "\n",
    "Finish the code segment bellow to compute the ratios for the provided data, given the training values (which contain p(word| x=1) and p(word| x=0) as well as the columns which will be used (i.e. only the given words are examined, not all of them). The priors $p(spam)$ and $p(ham)$ are provided \n",
    "\n",
    "Make sure to account for cases where the number of columns is large and we might run into numerical errors when nearing zero. For example, with 40 columns used and most factors smaller than 0.1, we will likely go well bellow 1e-40 when computing the scores. As we are only interested in the ratio, we can freely multiply **both values** with a constant when we wish to.\n",
    "\n",
    "The data is divided the following way:\n",
    "\n",
    "* trainingSpam and trainingHam are arrays containing the estimates for p(word|x=1) and p(word|x=0). They are arrays of len 600, but only the first 50 fields are relevant\n",
    "* testData is a matrix of shape 400 (number points) x 50(number words). testData[i,j]=1 if message i contains the word j\n",
    "* testLabels is an array containing the labels for each of the test messages\n",
    "* validation data and labels have the same description as the test data. They are used for tuning the model (selecting the paramater T, examining the ROC curve...), while the test data is used to check the final result quality on unseen data."
   ]
  },
  {
   "cell_type": "code",
   "execution_count": 2,
   "metadata": {
    "collapsed": false
   },
   "outputs": [
    {
     "ename": "IOError",
     "evalue": "[Errno 2] No such file or directory: '1training_spam.npy'",
     "output_type": "error",
     "traceback": [
      "\u001b[0;31m---------------------------------------------------------------------------\u001b[0m",
      "\u001b[0;31mIOError\u001b[0m                                   Traceback (most recent call last)",
      "\u001b[0;32m<ipython-input-2-548a60bcfb47>\u001b[0m in \u001b[0;36m<module>\u001b[0;34m()\u001b[0m\n\u001b[1;32m      1\u001b[0m \u001b[1;31m#Run the following to extract data used for training and testing purposes\u001b[0m\u001b[1;33m\u001b[0m\u001b[1;33m\u001b[0m\u001b[0m\n\u001b[0;32m----> 2\u001b[0;31m \u001b[0mtrainingSpam\u001b[0m\u001b[1;33m=\u001b[0m\u001b[0mnumpy\u001b[0m\u001b[1;33m.\u001b[0m\u001b[0mload\u001b[0m\u001b[1;33m(\u001b[0m\u001b[1;34m'1training_spam.npy'\u001b[0m\u001b[1;33m)\u001b[0m\u001b[1;33m\u001b[0m\u001b[0m\n\u001b[0m\u001b[1;32m      3\u001b[0m \u001b[0mtrainingHam\u001b[0m\u001b[1;33m=\u001b[0m\u001b[0mnumpy\u001b[0m\u001b[1;33m.\u001b[0m\u001b[0mload\u001b[0m\u001b[1;33m(\u001b[0m\u001b[1;34m'1training_ham.npy'\u001b[0m\u001b[1;33m)\u001b[0m\u001b[1;33m\u001b[0m\u001b[0m\n\u001b[1;32m      4\u001b[0m \u001b[0mtestData\u001b[0m\u001b[1;33m=\u001b[0m\u001b[0mnumpy\u001b[0m\u001b[1;33m.\u001b[0m\u001b[0mload\u001b[0m\u001b[1;33m(\u001b[0m\u001b[1;34m'1testData.npy'\u001b[0m\u001b[1;33m)\u001b[0m\u001b[1;33m\u001b[0m\u001b[0m\n\u001b[1;32m      5\u001b[0m \u001b[0mtestLabels\u001b[0m\u001b[1;33m=\u001b[0m\u001b[0mnumpy\u001b[0m\u001b[1;33m.\u001b[0m\u001b[0mload\u001b[0m\u001b[1;33m(\u001b[0m\u001b[1;34m'1testLabels.npy'\u001b[0m\u001b[1;33m)\u001b[0m\u001b[1;33m\u001b[0m\u001b[0m\n",
      "\u001b[0;32mC:\\ProgramData\\Anaconda2\\lib\\site-packages\\numpy\\lib\\npyio.py\u001b[0m in \u001b[0;36mload\u001b[0;34m(file, mmap_mode, allow_pickle, fix_imports, encoding)\u001b[0m\n\u001b[1;32m    360\u001b[0m     \u001b[0mown_fid\u001b[0m \u001b[1;33m=\u001b[0m \u001b[0mFalse\u001b[0m\u001b[1;33m\u001b[0m\u001b[0m\n\u001b[1;32m    361\u001b[0m     \u001b[1;32mif\u001b[0m \u001b[0misinstance\u001b[0m\u001b[1;33m(\u001b[0m\u001b[0mfile\u001b[0m\u001b[1;33m,\u001b[0m \u001b[0mbasestring\u001b[0m\u001b[1;33m)\u001b[0m\u001b[1;33m:\u001b[0m\u001b[1;33m\u001b[0m\u001b[0m\n\u001b[0;32m--> 362\u001b[0;31m         \u001b[0mfid\u001b[0m \u001b[1;33m=\u001b[0m \u001b[0mopen\u001b[0m\u001b[1;33m(\u001b[0m\u001b[0mfile\u001b[0m\u001b[1;33m,\u001b[0m \u001b[1;34m\"rb\"\u001b[0m\u001b[1;33m)\u001b[0m\u001b[1;33m\u001b[0m\u001b[0m\n\u001b[0m\u001b[1;32m    363\u001b[0m         \u001b[0mown_fid\u001b[0m \u001b[1;33m=\u001b[0m \u001b[0mTrue\u001b[0m\u001b[1;33m\u001b[0m\u001b[0m\n\u001b[1;32m    364\u001b[0m     \u001b[1;32melse\u001b[0m\u001b[1;33m:\u001b[0m\u001b[1;33m\u001b[0m\u001b[0m\n",
      "\u001b[0;31mIOError\u001b[0m: [Errno 2] No such file or directory: '1training_spam.npy'"
     ]
    }
   ],
   "source": [
    "#Run the following to extract data used for training and testing purposes\n",
    "trainingSpam=numpy.load('1training_spam.npy')\n",
    "trainingHam=numpy.load('1training_ham.npy')\n",
    "testData=numpy.load('1testData.npy')\n",
    "testLabels=numpy.load('1testLabels.npy')\n",
    "validationLabels=numpy.load('1validationLabels.npy')\n",
    "validationData=numpy.load('1validationData.npy')\n"
   ]
  },
  {
   "cell_type": "code",
   "execution_count": null,
   "metadata": {
    "collapsed": false
   },
   "outputs": [],
   "source": [
    "def compute_ratio(trainingHam, trainingSpam,data, columns):\n",
    "    \"\"\"\n",
    "    Classifies the testData using the specified columns with the given threshold T\n",
    "    \n",
    "    trainingHam - Contains the estimated probabilities p(word|ham) for each word. \n",
    "                  Shape num_features x 1\n",
    "    trainingSpam - Contains the estimated probabilities p(word|spam) for each word. \n",
    "                   Shape num_features x 1\n",
    "    data - The data which will be classified. Shape num_test_messages x num_features\n",
    "    columns -   List (or numpy array) containing the columns which are to be used. \n",
    "                For example. if it contains [1,14,15] the scores are to be computed \n",
    "                by using the values for those 3 words only (i.e. disregarding all \n",
    "                other words).\n",
    "    \"\"\"\n",
    "    \n",
    "    prior_spam = 0.6\n",
    "    prior_ham = 0.4\n",
    "    \n",
    "    # getting the relevant columns (words) of the likelihoods\n",
    "    spam = trainingSpam[columns]\n",
    "    ham = trainingHam[columns]\n",
    "    \n",
    "    # getting the relevant columns (words) of the data\n",
    "    data = data[:,columns]\n",
    "    #print data[100:110]\n",
    "    \n",
    "    # compute the posterior for each word (without denominator)\n",
    "    #spam = spam*prior_spam\n",
    "    #ham = ham*prior_ham\n",
    "    #print ham\n",
    "    #print spam\n",
    "    \n",
    "    # compute posterior for all mesages\n",
    "    dataSpam = data*spam\n",
    "    dataHam = data*ham\n",
    "    dataSpam *= 100 #prevent from under flow\n",
    "    dataHam *= 100\n",
    "    dataSpam[dataSpam==0] = 1.0 # set columns of words which aren't in the message to 1 so that we can take the product\n",
    "    dataHam[dataHam==0] = 1.0\n",
    "    spam_factor = np.prod(dataSpam, axis=1, keepdims=True) # compute the product of all word posteriors\n",
    "    ham_factor = np.prod(dataHam, axis=1, keepdims=True)   # in order to obtain the message's posterior\n",
    "    #print spam_factor[8]\n",
    "    #print dataSpam[100:110]\n",
    "    \n",
    "    #spam_factor = numpy.ones((data.shape[0],1))\n",
    "    #ham_factor = numpy.ones((data.shape[0],1))\n",
    "   \n",
    "    spam_factor*=prior_spam #include the priors\n",
    "    ham_factor*=prior_ham #include the priors\n",
    "    \n",
    "    \n",
    "    \n",
    "    # Make sure we don't get enormous ratios\n",
    "    #ham_factor += (0.0001*spam_factor)\n",
    "    #spam_factor *=1.0001\n",
    "    \n",
    "    ratio = spam_factor/(ham_factor)\n",
    "    return ratio"
   ]
  },
  {
   "cell_type": "code",
   "execution_count": 3,
   "metadata": {
    "collapsed": false
   },
   "outputs": [
    {
     "ename": "NameError",
     "evalue": "name 'compute_ratio' is not defined",
     "output_type": "error",
     "traceback": [
      "\u001b[0;31m---------------------------------------------------------------------------\u001b[0m",
      "\u001b[0;31mNameError\u001b[0m                                 Traceback (most recent call last)",
      "\u001b[0;32m<ipython-input-3-572c4e2c3fd1>\u001b[0m in \u001b[0;36m<module>\u001b[0;34m()\u001b[0m\n\u001b[1;32m      1\u001b[0m \u001b[1;31m# You can use this for debugging purposes\u001b[0m\u001b[1;33m\u001b[0m\u001b[1;33m\u001b[0m\u001b[0m\n\u001b[1;32m      2\u001b[0m \u001b[1;33m\u001b[0m\u001b[0m\n\u001b[0;32m----> 3\u001b[0;31m tmp = compute_ratio(trainingHam,trainingSpam,validationData,\n\u001b[0m\u001b[1;32m      4\u001b[0m                     [1,2,3,4,5,6,7,8,9,10])\n\u001b[1;32m      5\u001b[0m \u001b[0ma\u001b[0m \u001b[1;33m=\u001b[0m \u001b[0mtmp\u001b[0m\u001b[1;33m[\u001b[0m\u001b[1;36m100\u001b[0m\u001b[1;33m:\u001b[0m\u001b[1;36m110\u001b[0m\u001b[1;33m]\u001b[0m\u001b[1;33m\u001b[0m\u001b[0m\n",
      "\u001b[0;31mNameError\u001b[0m: name 'compute_ratio' is not defined"
     ]
    }
   ],
   "source": [
    "# You can use this for debugging purposes\n",
    "\n",
    "tmp = compute_ratio(trainingHam,trainingSpam,validationData,\n",
    "                    [1,2,3,4,5,6,7,8,9,10])\n",
    "a = tmp[100:110]\n",
    "sample_ratios = numpy.load('Sample_ratios.npy')\n",
    "#print a\n",
    "#print sample_ratios\n",
    "for i in range(10):\n",
    "    assert(a[i]>(sample_ratios[i]-0.01) and \n",
    "           a[i]<(sample_ratios[i]+0.01))\n",
    "print \"Results seem to match\""
   ]
  },
  {
   "cell_type": "markdown",
   "metadata": {},
   "source": [
    "<h3>Part II: Choosing parameters (20P) </h3>\n",
    "We need to determine a set of columns which produces good results **and a threshold parameter T**. However as there are $2^{num features}$ possible combinations for the column set, we can't implement a brute force solution. \n",
    "\n",
    "One way to limit our search space is to look for a solution iteratively. We will limit our search space by iteratively searching for the best column to add to our current set, starting with an empty set of columns. This way we have $O(n*k)$ complexity, where k is the upper bound for the number of features to consider, rather than exponential complexity. We need to examine the effects of adding a column and find a threshold value $T$ which performs best. **The validation set is used for this**. Training then looks like this:\n",
    "\n",
    "* Start with an empty set of columns\n",
    "* Iterate until we reach the desired number k, in this case 32\n",
    "    * Iterate over all columns not in the set\n",
    "        * We need to check the values for **a wide range of values for the parameter T**. \n",
    "        * The optimal value for T as well as the optimal column added (j) need to be recorded\n",
    "        * To visualize the effects of the parameter T we record the true-positive rates and false-positive rates necessary to visualize the ROC curve (see: http://en.wikipedia.org/wiki/Receiver_operating_characteristic )\n",
    "    * We visualize the ROC curve for the new set of columns. So if we found that coulmn 3 was the best addition, we visualize result quality for columns $\\cup$ {3}. The ROC curve shows values we observed for various T\n",
    "    * To check quality, we also include the F1 score on the test data for the chosen optimal value of T (so only the value that performed best on the validation data, not a range). This is the final measure of quality.\n",
    "\n",
    "An example of our results is included bellow. There are 4 subplots per figure, the figure includes a line x=x (red) and the roc curve(blue). The parameters shown are:\n",
    "\n",
    "* F1 score on validation data\n",
    "* F1 score on test data\n",
    "* The number of columns used (i)\n",
    "\n",
    "Run tests using the full validation set, as well portions of it. Make sure you select a segment which contains both types of messages. The first 200 are spam and the following 200 aren't."
   ]
  },
  {
   "cell_type": "code",
   "execution_count": 4,
   "metadata": {
    "collapsed": false
   },
   "outputs": [],
   "source": [
    "def run_experiment(trainingHam,trainingSpam,validationData,\n",
    "                   validationLabels,testData,testLabels):\n",
    "    T = np.linspace(0.05,10,num=100)\n",
    "    mask = np.ones((validationData.shape[0],len(T)))\n",
    "    columns = []\n",
    "    \n",
    "    fig = plt.figure(figsize=(20,40))\n",
    "    \n",
    "    # get number of positives and negatives in our test and validation data\n",
    "    val_positives = np.sum(validationLabels)\n",
    "    val_negatives = validationLabels.shape[0] - val_positives\n",
    "    test_positives = np.sum(testLabels)\n",
    "    test_negatives = testLabels.shape[0] - test_positives\n",
    "    \n",
    "    best_acc = 0\n",
    "    best_T = 0\n",
    "    best_col = 0\n",
    "    best_results = []\n",
    "    \n",
    "    \n",
    "    for i in range(1,33): #You can make this smaller during testing\n",
    "        #Find optimal column and its T\n",
    "        for j in range(50):\n",
    "            if not (j in columns):\n",
    "                ratios = compute_ratio(trainingHam,trainingSpam,validationData,columns+[j])\n",
    "                rat_mat = ratios * mask\n",
    "                results = rat_mat > T                       #check where ratio is bigger than threshold\n",
    "                #print results[[0,399],20]\n",
    "                label_comp = results == validationLabels    #check where labels equal the result\n",
    "                accuracies = np.sum(label_comp, axis = 0)   #count the number of correct classifications\n",
    "                #print accuracies[0:50]\n",
    "                current_acc = np.amax(accuracies)           #find the greatest accuracy\n",
    "                indices = np.argwhere(accuracies==current_acc)  #find indices of the greatest accuracy\n",
    "                current_ind = indices[len(indices)/2]       #take an index close to the middle of possible indices\n",
    "                current_T = T[current_ind]                  # get the corresponding value for T\n",
    "                if current_acc > best_acc:                  #keeping track of the best found column so far\n",
    "                    best_col = j\n",
    "                    best_acc = current_acc\n",
    "                    best_T = current_T\n",
    "                    best_results = results\n",
    "                    best_ind = current_ind\n",
    "                    \n",
    "                    \n",
    "        #Add the column to the set\n",
    "        columns = columns + [best_col]\n",
    "        best_acc = 0\n",
    "        \n",
    "        \n",
    "        #Visualize ROC curve with the two F1 scores\n",
    "        \n",
    "        #initialize plot and y=x curve\n",
    "        plt.subplot(8,4,i)\n",
    "        plt.plot(np.linspace(0.0,1.0,num=11),np.linspace(0.0,1.0,num=11), color='red', marker=None)\n",
    "        \n",
    "        # calculate true positive rates and false positive rates for all T's\n",
    "        all_tp = np.sum(np.logical_and((best_results == True), (validationLabels == True)),axis=0)\n",
    "        all_fp = np.sum(np.logical_and((best_results == True), (validationLabels == False)),axis=0)\n",
    "        tp_rate = all_tp/val_positives\n",
    "        fp_rate = all_fp/val_negatives\n",
    "        \n",
    "        #plot rates\n",
    "        plt.plot(fp_rate,tp_rate, color='blue', marker='x')\n",
    "        \n",
    "        #calculate F1 score on validation set\n",
    "        best_fn = np.sum(np.logical_and((best_results[:,best_ind] == False), (validationLabels == True)))\n",
    "        best_tp = all_tp[best_ind]\n",
    "        best_fp = all_fp[best_ind]\n",
    "        F1_val = np.around(2*best_tp/float((2*best_tp+best_fp+best_fn)),2)\n",
    "        #print F1_val\n",
    "        \n",
    "        #calculate F1 score on test set\n",
    "        test_ratios = compute_ratio(trainingHam,trainingSpam,testData,columns)\n",
    "        test_results = test_ratios > current_T\n",
    "        test_fn = np.sum(np.logical_and((test_results == False), (testLabels == True)))\n",
    "        test_tp = np.sum(np.logical_and((test_results == True), (testLabels == True)))\n",
    "        test_fp = np.sum(np.logical_and((test_results == True), (testLabels == False)))\n",
    "        F1_test = np.around(2*test_tp/float((2*test_tp+test_fp+test_fn)),2)\n",
    "        #print F1_test\n",
    "        \n",
    "        #add title with F1 scores\n",
    "        plt.title('F1 for val = ' + str(F1_val[0]) + ', F1 for test = ' + str(F1_test) + ', i = ' + str(i))\n",
    "\n",
    "        \n",
    "    #fig.tight_layout()\n",
    "    "
   ]
  },
  {
   "cell_type": "code",
   "execution_count": 5,
   "metadata": {
    "collapsed": false
   },
   "outputs": [
    {
     "ename": "NameError",
     "evalue": "name 'trainingHam' is not defined",
     "output_type": "error",
     "traceback": [
      "\u001b[0;31m---------------------------------------------------------------------------\u001b[0m",
      "\u001b[0;31mNameError\u001b[0m                                 Traceback (most recent call last)",
      "\u001b[0;32m<ipython-input-5-b646ad0251db>\u001b[0m in \u001b[0;36m<module>\u001b[0;34m()\u001b[0m\n\u001b[0;32m----> 1\u001b[0;31m \u001b[0mrun_experiment\u001b[0m\u001b[1;33m(\u001b[0m\u001b[0mtrainingHam\u001b[0m\u001b[1;33m,\u001b[0m\u001b[0mtrainingSpam\u001b[0m\u001b[1;33m,\u001b[0m\u001b[0mvalidationData\u001b[0m\u001b[1;33m,\u001b[0m\u001b[0mvalidationLabels\u001b[0m\u001b[1;33m,\u001b[0m\u001b[0mtestData\u001b[0m\u001b[1;33m,\u001b[0m\u001b[0mtestLabels\u001b[0m\u001b[1;33m)\u001b[0m\u001b[1;33m\u001b[0m\u001b[0m\n\u001b[0m",
      "\u001b[0;31mNameError\u001b[0m: name 'trainingHam' is not defined"
     ]
    }
   ],
   "source": [
    "run_experiment(trainingHam,trainingSpam,validationData,validationLabels,testData,testLabels)"
   ]
  },
  {
   "cell_type": "code",
   "execution_count": 6,
   "metadata": {
    "collapsed": false
   },
   "outputs": [
    {
     "ename": "NameError",
     "evalue": "name 'trainingHam' is not defined",
     "output_type": "error",
     "traceback": [
      "\u001b[0;31m---------------------------------------------------------------------------\u001b[0m",
      "\u001b[0;31mNameError\u001b[0m                                 Traceback (most recent call last)",
      "\u001b[0;32m<ipython-input-6-615fba873f9b>\u001b[0m in \u001b[0;36m<module>\u001b[0;34m()\u001b[0m\n\u001b[0;32m----> 1\u001b[0;31m \u001b[0mrun_experiment\u001b[0m\u001b[1;33m(\u001b[0m\u001b[0mtrainingHam\u001b[0m\u001b[1;33m,\u001b[0m\u001b[0mtrainingSpam\u001b[0m\u001b[1;33m,\u001b[0m\u001b[0mvalidationData\u001b[0m\u001b[1;33m[\u001b[0m\u001b[1;36m180\u001b[0m\u001b[1;33m:\u001b[0m\u001b[1;36m220\u001b[0m\u001b[1;33m,\u001b[0m\u001b[1;33m:\u001b[0m\u001b[1;33m]\u001b[0m\u001b[1;33m,\u001b[0m\u001b[0mvalidationLabels\u001b[0m\u001b[1;33m[\u001b[0m\u001b[1;36m180\u001b[0m\u001b[1;33m:\u001b[0m\u001b[1;36m220\u001b[0m\u001b[1;33m]\u001b[0m\u001b[1;33m,\u001b[0m\u001b[0mtestData\u001b[0m\u001b[1;33m,\u001b[0m\u001b[0mtestLabels\u001b[0m\u001b[1;33m)\u001b[0m\u001b[1;33m\u001b[0m\u001b[0m\n\u001b[0m",
      "\u001b[0;31mNameError\u001b[0m: name 'trainingHam' is not defined"
     ]
    }
   ],
   "source": [
    "run_experiment(trainingHam,trainingSpam,validationData[180:220,:],validationLabels[180:220],testData,testLabels)"
   ]
  },
  {
   "cell_type": "markdown",
   "metadata": {},
   "source": [
    "<h3>Part III: Analysis (10P) </h3>\n",
    "\n",
    "*Will our iterative approach for finding the solution always find an optimal solution? Explain your answer.*\n",
    "\n",
    "**No, it will not always find an optimal solution. We limit ourselves by irreversibly choosing one column, because in the following steps we will just be able to judge the performance based on a combination of a new column and our already chosen columns. But there might for example exist a better solution, that doesn't contain the column that we have chosen in our very first iteration. Our approach will not be able to inspect those combinations not containing the first chosen column.**\n",
    "\n",
    "*Explain the need for separate validation and test data when conducting tests*\n",
    "\n",
    "**It's important to choose parameters on a different set than the one you test your final performance on, because while validation you can easily overfit or underfit the validation set. If you overfit, the classifier will work perfectly fine on the validation set but poorly generalize and thus be useless. If you underfit the boundary will be too simple to classify properly and thus work bad on either the validation and the test set. So a separate set for validation and test data is needed to first learn the parameters and then check whether the parameters learned yield a useful generalization.**\n",
    "\n",
    "\n",
    "\n",
    "*What kind of performance w.r.t false-positives and false-negatives is favorable for a spam-filter? How would you adjust your code to reflect this type of behavior. Give an example of the opposite type of behaviour*\n",
    "\n",
    "**It's clearly favorable to have less false-positives (and so probably more false-negatives) than the other way around. The reason is that the user usually doesn't want to have important messages (ham, for example for appointments etc.) filtered out by the spam filter. It's rather acceptable to handpick some spam messages that are not caught by the filter than to miss an important message because it's in the spam directory.**\n",
    "\n",
    "**There are many ways to reflect this type of behaviour. The easiest would be to change the priors in favour of ham, so that the classifier tends to classify as ham since it expects more ham than spam messages. We could also define a loss-function that does the job by weighting a ham message classified as spam as a worse error than classifying spam as ham. Another way is to adjust the threshold. If we raise the threshold we will just classify those messages as spam, that have a very high ratio, meaning that either the spam factor is really high or the ham factor is really low. If we would lower the threshold we would have the different type of behaviour: the classifier would classify many messages as spam, although the spam factor is not extremly large or the ham factor is not extremly small. So the user would rarely get any spam messages but also lose a lot of ham messages.**\n",
    "\n",
    "**A last approach of reflecting the desired behaviour would be a different kind of measurement as 'best column' during the validation. In our approach we took the column with the best overall accuracy (the least wrongly classified messages). One could try to look for columns with a low false-postive rate (maybe defining an upper bound like 1 percent) and search among these columns fo the one that still classifies the most spam mails correctly as spam (true-positive rate)**\n"
   ]
  },
  {
   "cell_type": "code",
   "execution_count": null,
   "metadata": {
    "collapsed": true
   },
   "outputs": [],
   "source": []
  },
  {
   "cell_type": "code",
   "execution_count": null,
   "metadata": {
    "collapsed": true
   },
   "outputs": [],
   "source": []
  }
 ],
 "metadata": {
  "kernelspec": {
   "display_name": "Python 2",
   "language": "python",
   "name": "python2"
  },
  "language_info": {
   "codemirror_mode": {
    "name": "ipython",
    "version": 2
   },
   "file_extension": ".py",
   "mimetype": "text/x-python",
   "name": "python",
   "nbconvert_exporter": "python",
   "pygments_lexer": "ipython2",
   "version": "2.7.13"
  }
 },
 "nbformat": 4,
 "nbformat_minor": 0
}
