{
 "metadata": {
  "name": "",
  "signature": "sha256:2a3f4e7bbd9a286c827f1a24bdd824964894b104275f5c96db9178af64db6b4f"
 },
 "nbformat": 3,
 "nbformat_minor": 0,
 "worksheets": []
}